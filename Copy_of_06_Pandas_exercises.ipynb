{
  "cells": [
    {
      "cell_type": "markdown",
      "metadata": {
        "id": "view-in-github",
        "colab_type": "text"
      },
      "source": [
        "<a href=\"https://colab.research.google.com/github/MaximusMcGinnis/DS1002/blob/main/Copy_of_06_Pandas_exercises.ipynb\" target=\"_parent\"><img src=\"https://colab.research.google.com/assets/colab-badge.svg\" alt=\"Open In Colab\"/></a>"
      ]
    },
    {
      "cell_type": "markdown",
      "metadata": {
        "id": "L_nKffgWPs-1"
      },
      "source": [
        "## Pandas exercises 1\n",
        "\n",
        "1. Import dependencies"
      ]
    },
    {
      "cell_type": "code",
      "execution_count": null,
      "metadata": {
        "id": "hASl6yoNPs-2"
      },
      "outputs": [],
      "source": [
        "import pandas as pd"
      ]
    },
    {
      "cell_type": "markdown",
      "metadata": {
        "id": "33KUt_fEPs-2"
      },
      "source": [
        "---"
      ]
    },
    {
      "cell_type": "code",
      "execution_count": null,
      "metadata": {
        "id": "ZZmr1aIoPs-3"
      },
      "outputs": [],
      "source": [
        "list = [98, 24, 46, 87, 33]"
      ]
    },
    {
      "cell_type": "markdown",
      "metadata": {
        "id": "jGSEPEqXPs-3"
      },
      "source": [
        "2. Convert `list` to a pandas series using `pd.Series`"
      ]
    },
    {
      "cell_type": "code",
      "execution_count": null,
      "metadata": {
        "id": "nZ1y9HF6Ps-3",
        "outputId": "7f216221-8a32-4b11-de15-b5a1e609539f",
        "colab": {
          "base_uri": "https://localhost:8080/"
        }
      },
      "outputs": [
        {
          "output_type": "stream",
          "name": "stdout",
          "text": [
            "0    98\n",
            "1    24\n",
            "2    46\n",
            "3    87\n",
            "4    33\n",
            "dtype: int64\n"
          ]
        }
      ],
      "source": [
        "import pandas as pd\n",
        "\n",
        "list = [98, 24, 46, 87, 33]\n",
        "\n",
        "myvar = pd.Series(list)\n",
        "\n",
        "print(myvar)\n"
      ]
    },
    {
      "cell_type": "markdown",
      "metadata": {
        "id": "rORNi5YyPs-4"
      },
      "source": [
        "3. Take the above series and add an index that starts at 2 and steps by 3"
      ]
    },
    {
      "cell_type": "code",
      "execution_count": null,
      "metadata": {
        "id": "YC8f3lAMPs-4",
        "outputId": "a36d07c8-b4e2-45a0-fff7-f5d16406117b",
        "colab": {
          "base_uri": "https://localhost:8080/"
        }
      },
      "outputs": [
        {
          "output_type": "stream",
          "name": "stdout",
          "text": [
            "2     46.0\n",
            "5      NaN\n",
            "8      NaN\n",
            "11     NaN\n",
            "14     NaN\n",
            "dtype: float64\n"
          ]
        }
      ],
      "source": [
        "import pandas as pd\n",
        "\n",
        "original_series = pd.Series(list)\n",
        "\n",
        "new_index = range(2, len(original_series) * 3, 3)\n",
        "\n",
        "new_series = original_series.reindex(new_index)\n",
        "\n",
        "print(new_series)\n"
      ]
    },
    {
      "cell_type": "markdown",
      "metadata": {
        "id": "2P199KkwPs-4"
      },
      "source": [
        "4. Create a dictionary of 4 names, ages, and careers   \n",
        "Convert this dictionary to a pandas dataframe: `df`.  \n",
        "Print the dataframe."
      ]
    },
    {
      "cell_type": "code",
      "execution_count": null,
      "metadata": {
        "id": "lWoGNi5hPs-5",
        "outputId": "0e27e0ac-b790-4fb8-9412-6c8ef7fb0ff2",
        "colab": {
          "base_uri": "https://localhost:8080/"
        }
      },
      "outputs": [
        {
          "output_type": "stream",
          "name": "stdout",
          "text": [
            "   Name  Age     Career\n",
            "0  Theo   18  Professor\n",
            "1   Ben   19      Chief\n",
            "2  Nate   20     Doctor\n",
            "3  Finn   21    Surgeon\n"
          ]
        }
      ],
      "source": [
        "import pandas as pd\n",
        "\n",
        "data = {\n",
        "    'Name':['Theo', 'Ben', 'Nate', 'Finn'],\n",
        "    'Age':[18,19,20,21],\n",
        "    'Career':['Professor', 'Chief', 'Doctor', 'Surgeon']\n",
        "\n",
        "}\n",
        "\n",
        "df = pd.DataFrame(data)\n",
        "\n",
        "print(df)\n"
      ]
    },
    {
      "cell_type": "markdown",
      "metadata": {
        "id": "TD-Ej1K_Ps-5"
      },
      "source": [
        "5. Name the index of `df` 'participant_id'.  \n",
        "Print `df`."
      ]
    },
    {
      "cell_type": "code",
      "execution_count": null,
      "metadata": {
        "id": "_54NO6pRPs-5",
        "outputId": "4b82ba86-efc2-433e-feb7-eaffd95d1db7",
        "colab": {
          "base_uri": "https://localhost:8080/"
        }
      },
      "outputs": [
        {
          "output_type": "stream",
          "name": "stdout",
          "text": [
            "                Name  Age     Career\n",
            "participant_id                      \n",
            "0               Theo   18  Professor\n",
            "1                Ben   19      Chief\n",
            "2               Nate   20     Doctor\n",
            "3               Finn   21    Surgeon\n"
          ]
        }
      ],
      "source": [
        "import pandas as pd\n",
        "\n",
        "data = {\n",
        "    'Name':['Theo', 'Ben', 'Nate', 'Finn'],\n",
        "    'Age':[18,19,20,21],\n",
        "    'Career':['Professor', 'Chief', 'Doctor', 'Surgeon']\n",
        "\n",
        "}\n",
        "\n",
        "df = pd.DataFrame(data)\n",
        "\n",
        "df.index.name = 'participant_id'\n",
        "\n",
        "print(df)\n"
      ]
    },
    {
      "cell_type": "markdown",
      "metadata": {
        "id": "-JXKN55IPs-5"
      },
      "source": [
        "**6**. Use a pandas function to determine the data types of the columns of `df`."
      ]
    },
    {
      "cell_type": "code",
      "execution_count": null,
      "metadata": {
        "id": "pmbPdPYmPs-5",
        "outputId": "5807aa30-b7e1-411c-8733-e8481bd77436",
        "colab": {
          "base_uri": "https://localhost:8080/"
        }
      },
      "outputs": [
        {
          "output_type": "stream",
          "name": "stdout",
          "text": [
            "                Name  Age     Career\n",
            "participant_id                      \n",
            "0               Theo   18  Professor\n",
            "1                Ben   19      Chief\n",
            "2               Nate   20     Doctor\n",
            "3               Finn   21    Surgeon\n",
            "Name      object\n",
            "Age        int64\n",
            "Career    object\n",
            "dtype: object\n"
          ]
        }
      ],
      "source": [
        "import pandas as pd\n",
        "\n",
        "data = {\n",
        "    'Name':['Theo', 'Ben', 'Nate', 'Finn'],\n",
        "    'Age':[18,19,20,21],\n",
        "    'Career':['Professor', 'Chief', 'Doctor', 'Surgeon']\n",
        "\n",
        "}\n",
        "\n",
        "df = pd.DataFrame(data)\n",
        "\n",
        "df.index.name = 'participant_id'\n",
        "\n",
        "print(df)\n",
        "\n",
        "print(df.dtypes)\n"
      ]
    },
    {
      "cell_type": "markdown",
      "metadata": {
        "id": "67Yv1vrcPs-5"
      },
      "source": [
        "7. Using bracket notation, reference column `name`"
      ]
    },
    {
      "cell_type": "code",
      "execution_count": null,
      "metadata": {
        "id": "KvYDyocgPs-6",
        "outputId": "7e5c9c2e-8aa6-471c-f4c3-f86772fee4d1",
        "colab": {
          "base_uri": "https://localhost:8080/"
        }
      },
      "outputs": [
        {
          "output_type": "stream",
          "name": "stdout",
          "text": [
            "                Name  Age     Career\n",
            "participant_id                      \n",
            "0               Theo   18  Professor\n",
            "1                Ben   19      Chief\n",
            "2               Nate   20     Doctor\n",
            "3               Finn   21    Surgeon\n",
            "Name      object\n",
            "Age        int64\n",
            "Career    object\n",
            "dtype: object\n"
          ]
        },
        {
          "output_type": "execute_result",
          "data": {
            "text/plain": [
              "participant_id\n",
              "0    Theo\n",
              "1     Ben\n",
              "2    Nate\n",
              "3    Finn\n",
              "Name: Name, dtype: object"
            ]
          },
          "metadata": {},
          "execution_count": 28
        }
      ],
      "source": [
        "import pandas as pd\n",
        "\n",
        "data = {\n",
        "    'Name':['Theo', 'Ben', 'Nate', 'Finn'],\n",
        "    'Age':[18,19,20,21],\n",
        "    'Career':['Professor', 'Chief', 'Doctor', 'Surgeon']\n",
        "\n",
        "}\n",
        "\n",
        "df = pd.DataFrame(data)\n",
        "\n",
        "df.index.name = 'participant_id'\n",
        "\n",
        "print(df)\n",
        "\n",
        "print(df.dtypes)\n",
        "\n",
        "df['Name']"
      ]
    },
    {
      "cell_type": "markdown",
      "metadata": {
        "id": "m3cxo1_DPs-6"
      },
      "source": [
        "8. Using dot notation, reference column `name`"
      ]
    },
    {
      "cell_type": "code",
      "execution_count": null,
      "metadata": {
        "id": "1GWDNZpDPs-6",
        "outputId": "9b879cf6-4b3b-48d6-cf40-f5ed37693a49",
        "colab": {
          "base_uri": "https://localhost:8080/"
        }
      },
      "outputs": [
        {
          "output_type": "stream",
          "name": "stdout",
          "text": [
            "                Name  Age     Career\n",
            "participant_id                      \n",
            "0               Theo   18  Professor\n",
            "1                Ben   19      Chief\n",
            "2               Nate   20     Doctor\n",
            "3               Finn   21    Surgeon\n",
            "Name      object\n",
            "Age        int64\n",
            "Career    object\n",
            "dtype: object\n"
          ]
        },
        {
          "output_type": "execute_result",
          "data": {
            "text/plain": [
              "participant_id\n",
              "0    Theo\n",
              "1     Ben\n",
              "2    Nate\n",
              "3    Finn\n",
              "Name: Name, dtype: object"
            ]
          },
          "metadata": {},
          "execution_count": 30
        }
      ],
      "source": [
        "import pandas as pd\n",
        "\n",
        "data = {\n",
        "    'Name':['Theo', 'Ben', 'Nate', 'Finn'],\n",
        "    'Age':[18,19,20,21],\n",
        "    'Career':['Professor', 'Chief', 'Doctor', 'Surgeon']\n",
        "\n",
        "}\n",
        "\n",
        "df = pd.DataFrame(data)\n",
        "\n",
        "df.index.name = 'participant_id'\n",
        "\n",
        "print(df)\n",
        "\n",
        "print(df.dtypes)\n",
        "\n",
        "df.Name\n",
        "\n"
      ]
    },
    {
      "cell_type": "markdown",
      "metadata": {
        "id": "QXcydAo-Ps-6"
      },
      "source": [
        "\n",
        "\n",
        "```\n",
        "# This is formatted as code\n",
        "```\n",
        "\n",
        "8. Reference column `name` and have it returned in a dataframe."
      ]
    },
    {
      "cell_type": "code",
      "execution_count": null,
      "metadata": {
        "id": "Es6jw5eKPs-6",
        "outputId": "4ba3da7f-1d3f-495b-f051-3c71da94aedd",
        "colab": {
          "base_uri": "https://localhost:8080/"
        }
      },
      "outputs": [
        {
          "output_type": "stream",
          "name": "stdout",
          "text": [
            "                Name\n",
            "participant_id      \n",
            "0               Theo\n",
            "1                Ben\n",
            "2               Nate\n",
            "3               Finn\n"
          ]
        }
      ],
      "source": [
        "import pandas as pd\n",
        "\n",
        "data = {\n",
        "    'Name':['Theo', 'Ben', 'Nate', 'Finn'],\n",
        "    'Age':[18,19,20,21],\n",
        "    'Career':['Professor', 'Chief', 'Doctor', 'Surgeon']\n",
        "\n",
        "}\n",
        "\n",
        "df = pd.DataFrame(data)\n",
        "\n",
        "df.index.name = 'participant_id'\n",
        "\n",
        "name_df = df[['Name']]\n",
        "\n",
        "print(name_df)\n"
      ]
    },
    {
      "cell_type": "markdown",
      "metadata": {
        "id": "FGvwXkmsPs-6"
      },
      "source": [
        "9. Show the 3rd element in column `career`."
      ]
    },
    {
      "cell_type": "code",
      "execution_count": 1,
      "metadata": {
        "id": "9DFRMXJ-Ps-6",
        "colab": {
          "base_uri": "https://localhost:8080/"
        },
        "outputId": "77c8c059-a166-4da6-d46c-f092eeffbeb3"
      },
      "outputs": [
        {
          "output_type": "stream",
          "name": "stdout",
          "text": [
            "The 3rd element in column carerr is Doctor\n"
          ]
        }
      ],
      "source": [
        "import pandas as pd\n",
        "\n",
        "data = {\n",
        "    'Name':['Theo', 'Ben', 'Nate', 'Finn'],\n",
        "    'Age':[18,19,20,21],\n",
        "    'Career':['Professor', 'Chief', 'Doctor', 'Surgeon']\n",
        "\n",
        "}\n",
        "\n",
        "df = pd.DataFrame(data)\n",
        "\n",
        "df.index.name = 'participant_id'\n",
        "\n",
        "third_element_in_career = df.loc[2,'Career']\n",
        "\n",
        "print(\"The 3rd element in column carerr is\", third_element_in_career)"
      ]
    },
    {
      "cell_type": "markdown",
      "source": [
        "10.  Load the `iris` dataset that we used in class.  Use `iris` as the name of your data frame."
      ],
      "metadata": {
        "id": "rRH599bKtjbE"
      }
    },
    {
      "cell_type": "code",
      "source": [
        "import seaborn as sns\n",
        "iris = sns.load_dataset('iris')\n",
        "\n",
        "print(iris)\n"
      ],
      "metadata": {
        "id": "zzf2X8hptu02",
        "colab": {
          "base_uri": "https://localhost:8080/"
        },
        "outputId": "80852931-1b13-47e5-c817-bc7f505874b9"
      },
      "execution_count": 22,
      "outputs": [
        {
          "output_type": "stream",
          "name": "stdout",
          "text": [
            "     sepal_length  sepal_width  petal_length  petal_width    species\n",
            "0             5.1          3.5           1.4          0.2     setosa\n",
            "1             4.9          3.0           1.4          0.2     setosa\n",
            "2             4.7          3.2           1.3          0.2     setosa\n",
            "3             4.6          3.1           1.5          0.2     setosa\n",
            "4             5.0          3.6           1.4          0.2     setosa\n",
            "..            ...          ...           ...          ...        ...\n",
            "145           6.7          3.0           5.2          2.3  virginica\n",
            "146           6.3          2.5           5.0          1.9  virginica\n",
            "147           6.5          3.0           5.2          2.0  virginica\n",
            "148           6.2          3.4           5.4          2.3  virginica\n",
            "149           5.9          3.0           5.1          1.8  virginica\n",
            "\n",
            "[150 rows x 5 columns]\n"
          ]
        }
      ]
    },
    {
      "cell_type": "markdown",
      "source": [
        "\n",
        "\n",
        "11.  What is the correlation between the variables `sepal_length` and `sepal_width` for all the irises?"
      ],
      "metadata": {
        "id": "AKz6-jVWtvSB"
      }
    },
    {
      "cell_type": "code",
      "source": [
        "import seaborn as sns\n",
        "iris = sns.load_dataset('iris')\n",
        "\n",
        "print(iris[['sepal_length','sepal_width']].corr())\n",
        "\n",
        "print( )\n",
        "\n",
        "print(\"The correlation is -0.11757\")"
      ],
      "metadata": {
        "id": "hee42cCiuUaQ",
        "colab": {
          "base_uri": "https://localhost:8080/"
        },
        "outputId": "1e69b25b-6bf0-47fe-ce9d-42143a923df4"
      },
      "execution_count": 62,
      "outputs": [
        {
          "output_type": "stream",
          "name": "stdout",
          "text": [
            "              sepal_length  sepal_width\n",
            "sepal_length       1.00000     -0.11757\n",
            "sepal_width       -0.11757      1.00000\n",
            "\n",
            "The correlation is -0.11757\n"
          ]
        }
      ]
    },
    {
      "cell_type": "markdown",
      "source": [
        "12.  Which of the three species has the highest correlation between `sepal_length` and `sepal_width`?  Show any calculations you use to support your answer."
      ],
      "metadata": {
        "id": "0FftiYs-uU0S"
      }
    },
    {
      "cell_type": "code",
      "source": [
        "import seaborn as sns\n",
        "\n",
        "iris = sns.load_dataset('iris')\n",
        "\n",
        "correlation_per_species = iris.groupby('species')[['sepal_length', 'sepal_width']].corr().iloc[0::2, -1]\n",
        "\n",
        "max_correlation_species = correlation_per_species.groupby('species').mean().idxmax()\n",
        "\n",
        "print(\"Correlation between sepal_length and sepal_width for each species:\")\n",
        "print(correlation_per_species)\n",
        "print(\"\\nThe species with the highest correlation is:\", max_correlation_species)\n",
        "\n"
      ],
      "metadata": {
        "id": "TFGICsBQulQ-",
        "colab": {
          "base_uri": "https://localhost:8080/"
        },
        "outputId": "022f65d4-3ac4-44e3-fbad-9d831b3c31c9"
      },
      "execution_count": 32,
      "outputs": [
        {
          "output_type": "stream",
          "name": "stdout",
          "text": [
            "Correlation between sepal_length and sepal_width for each species:\n",
            "species                 \n",
            "setosa      sepal_length    0.742547\n",
            "versicolor  sepal_length    0.525911\n",
            "virginica   sepal_length    0.457228\n",
            "Name: sepal_width, dtype: float64\n",
            "\n",
            "The species with the highest correlation is: setosa\n"
          ]
        }
      ]
    },
    {
      "cell_type": "markdown",
      "source": [
        "13.  Among the four variables, the two that are most negatively correlated (overall) are `sepal_width` and `petal_length`.  (How do we know this?)  Determine the same thing but for each species separately:  for each species, which two variables have the most negative (or the least positive) correlation?  Again, include calculations to support your answer."
      ],
      "metadata": {
        "id": "ZEwy0920u1NY"
      }
    },
    {
      "cell_type": "code",
      "source": [
        "import seaborn as sns\n",
        "\n",
        "iris = sns.load_dataset('iris')\n",
        "\n",
        "correlation_per_species = iris.groupby('species')[['sepal_length', 'sepal_width', 'petal_length', 'petal_width']].corr()\n",
        "\n",
        "min_correlation_per_species = correlation_per_species.min(level=0)\n",
        "\n",
        "most_negative_correlation_per_species = min_correlation_per_species.idxmin()\n",
        "\n",
        "print(\"For each species, the two variables with the most negative correlation or the least positive correlation are:\")\n",
        "print(most_negative_correlation_per_species)\n"
      ],
      "metadata": {
        "id": "bcqtPTtHvjLI",
        "colab": {
          "base_uri": "https://localhost:8080/"
        },
        "outputId": "62b7037e-c47d-4ae5-9512-1cb29bcee309"
      },
      "execution_count": 47,
      "outputs": [
        {
          "output_type": "stream",
          "name": "stdout",
          "text": [
            "For each species, the two variables with the most negative correlation or the least positive correlation are:\n",
            "sepal_length    setosa\n",
            "sepal_width     setosa\n",
            "petal_length    setosa\n",
            "petal_width     setosa\n",
            "dtype: object\n"
          ]
        },
        {
          "output_type": "stream",
          "name": "stderr",
          "text": [
            "<ipython-input-47-5add42043f3f>:7: FutureWarning: Using the level keyword in DataFrame and Series aggregations is deprecated and will be removed in a future version. Use groupby instead. df.median(level=1) should use df.groupby(level=1).median().\n",
            "  min_correlation_per_species = correlation_per_species.min(level=0)\n"
          ]
        }
      ]
    },
    {
      "cell_type": "markdown",
      "source": [
        "14.  Once again, the variables `sepal_width` and `petal_length` are negatively correlated.  But for each individual species, these two variables are positively correlated.  How is this possible?  Explain this phenomenon.  Use a data visualization if it helps.\n"
      ],
      "metadata": {
        "id": "cK_OhSaRvxhE"
      }
    },
    {
      "cell_type": "code",
      "source": [
        "import seaborn as sns\n",
        "iris = sns.load_dataset('iris')\n",
        "\n",
        "correlation_per_species = iris.groupby('species')[['sepal_length', 'sepal_width']].corr().iloc[0::2, -1]\n",
        "\n",
        "max_correlation_species = correlation_per_species.groupby('species').mean().idxmax()\n",
        "\n",
        "print(\"Correlation between sepal_length and sepal_width for each species:\")\n",
        "print(correlation_per_species)\n",
        "\n",
        "print( )\n",
        "\n",
        "print(\"Bellow is correlation for sepal width and length for all the Irises\")\n",
        "\n",
        "print(iris[['sepal_length','sepal_width']].corr())\n",
        "\n",
        "print( )\n",
        "\n",
        "print(\"This is because correlation between sepal lengths and sepal widths for all irises compares a much larger data set than if we compare only each species data.\")\n",
        "print(\"So, it can be concluded that each species has a positive correlation when just said species is compared, but ALL Irises compared to each other has a negitive correlation because diffrient species have diffrient lengths and withs.\")\n"
      ],
      "metadata": {
        "id": "H4_QQDWHwJ3t",
        "colab": {
          "base_uri": "https://localhost:8080/"
        },
        "outputId": "0ae490a4-607c-493a-a443-c111e938363f"
      },
      "execution_count": 44,
      "outputs": [
        {
          "output_type": "stream",
          "name": "stdout",
          "text": [
            "Correlation between sepal_length and sepal_width for each species:\n",
            "species                 \n",
            "setosa      sepal_length    0.742547\n",
            "versicolor  sepal_length    0.525911\n",
            "virginica   sepal_length    0.457228\n",
            "Name: sepal_width, dtype: float64\n",
            "\n",
            "Bellow is correlation for sepal width and length for all the Irises\n",
            "              sepal_length  sepal_width\n",
            "sepal_length       1.00000     -0.11757\n",
            "sepal_width       -0.11757      1.00000\n",
            "\n",
            "This is because correlation between sepal lengths and sepal widths for all irises compares a much larger data set than if we compare only each species data.\n",
            "So, it can be concluded that each species has a positive correlation when just said species is compared, but ALL Irises compared to each other has a negitive correlation because diffrient species have diffrient lengths and withs.\n"
          ]
        }
      ]
    }
  ],
  "metadata": {
    "kernelspec": {
      "display_name": "Python 3.8.9 64-bit",
      "language": "python",
      "name": "python3"
    },
    "language_info": {
      "codemirror_mode": {
        "name": "ipython",
        "version": 3
      },
      "file_extension": ".py",
      "mimetype": "text/x-python",
      "name": "python",
      "nbconvert_exporter": "python",
      "pygments_lexer": "ipython3",
      "version": "3.8.9"
    },
    "orig_nbformat": 4,
    "vscode": {
      "interpreter": {
        "hash": "31f2aee4e71d21fbe5cf8b01ff0e069b9275f58929596ceb00d14d90e3e16cd6"
      }
    },
    "colab": {
      "provenance": [],
      "include_colab_link": true
    }
  },
  "nbformat": 4,
  "nbformat_minor": 0
}