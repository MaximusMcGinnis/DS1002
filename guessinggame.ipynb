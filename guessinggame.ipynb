{
  "nbformat": 4,
  "nbformat_minor": 0,
  "metadata": {
    "colab": {
      "provenance": [],
      "authorship_tag": "ABX9TyNvIWBE0+NdgrW+Rr77bHKP",
      "include_colab_link": true
    },
    "kernelspec": {
      "name": "python3",
      "display_name": "Python 3"
    },
    "language_info": {
      "name": "python"
    }
  },
  "cells": [
    {
      "cell_type": "markdown",
      "metadata": {
        "id": "view-in-github",
        "colab_type": "text"
      },
      "source": [
        "<a href=\"https://colab.research.google.com/github/MaximusMcGinnis/DS1002/blob/main/guessinggame.ipynb\" target=\"_parent\"><img src=\"https://colab.research.google.com/assets/colab-badge.svg\" alt=\"Open In Colab\"/></a>"
      ]
    },
    {
      "cell_type": "code",
      "source": [
        "import random\n",
        "\n",
        "for _ in range(1):\n",
        "    value = random.randint(0,100)\n",
        "\n",
        "print(\"Choose a Number!\")\n",
        "message = input()\n",
        "\n",
        "while (message != value):\n",
        "  if int(message) == value:\n",
        "    print(\"You guessed correctly!\")\n",
        "    break\n",
        "  elif int(message) > value:\n",
        "    print(\"Too Big!\")\n",
        "    message = input()\n",
        "  elif int(message) < value:\n",
        "    print(\"Too small, try again!\")\n",
        "    message = input()\n",
        "\n",
        "\n"
      ],
      "metadata": {
        "colab": {
          "base_uri": "https://localhost:8080/"
        },
        "id": "dDjPzVF1aQ41",
        "outputId": "07f6fc9c-cef9-4f86-e1eb-c1cab38bc4a0"
      },
      "execution_count": 6,
      "outputs": [
        {
          "output_type": "stream",
          "name": "stdout",
          "text": [
            "Choose a Number!\n",
            "12\n",
            "Too small, try again!\n",
            "7\n",
            "Too small, try again!\n",
            "40\n",
            "Too small, try again!\n",
            "70\n",
            "Too Big!\n",
            "50\n",
            "Too Big!\n",
            "40\n",
            "Too small, try again!\n",
            "45\n",
            "Too Big!\n",
            "44\n",
            "Too Big!\n",
            "43\n",
            "Too Big!\n",
            "42\n",
            "Too Big!\n",
            "41\n",
            "You guessed correctly!\n"
          ]
        }
      ]
    },
    {
      "cell_type": "markdown",
      "source": [
        "It me about 3 hours to complete this assignment"
      ],
      "metadata": {
        "id": "1fSNXoV4DKdO"
      }
    }
  ]
}