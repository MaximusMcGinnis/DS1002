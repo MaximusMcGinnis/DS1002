{
  "nbformat": 4,
  "nbformat_minor": 0,
  "metadata": {
    "colab": {
      "provenance": [],
      "include_colab_link": true
    },
    "kernelspec": {
      "name": "python3",
      "display_name": "Python 3"
    },
    "language_info": {
      "name": "python"
    }
  },
  "cells": [
    {
      "cell_type": "markdown",
      "metadata": {
        "id": "view-in-github",
        "colab_type": "text"
      },
      "source": [
        "<a href=\"https://colab.research.google.com/github/MaximusMcGinnis/DS1002/blob/main/Copy_of_2_19_HW.ipynb\" target=\"_parent\"><img src=\"https://colab.research.google.com/assets/colab-badge.svg\" alt=\"Open In Colab\"/></a>"
      ]
    },
    {
      "cell_type": "code",
      "execution_count": null,
      "metadata": {
        "colab": {
          "base_uri": "https://localhost:8080/"
        },
        "id": "PV0AnFyzlPED",
        "outputId": "c74a4ffa-26a1-4593-89b9-2653ab0dd5b6"
      },
      "outputs": [
        {
          "name": "stdout",
          "output_type": "stream",
          "text": [
            "Copy the URL of a .jpg file!\n",
            "https://images.app.goo.gl/ixvxwp6iCtc3axkB9\n"
          ]
        }
      ],
      "source": [
        "import numpy as np\n",
        "from PIL import Image\n",
        "import requests\n",
        "print(\"Copy the URL of a .jpg file!\")\n",
        "input()\n",
        "\n",
        "import numpy as np\n",
        "\n",
        "def red_filter(photo):\n",
        "    filtered_photo = np.copy(photo)\n",
        "    filtered_photo[:,:,1:] = 0\n",
        "    return filtered_photo\n",
        "\n",
        "def green_filter(photo):\n",
        "    filtered_photo = np.copy(photo)\n",
        "    filtered_photo[:,:,[0,2]] = 0\n",
        "    return filtered_photo\n",
        "\n",
        "def blue_filter(photo):\n",
        "    filtered_photo = np.copy(photo)\n",
        "    filtered_photo[:,:,0:2] = 0\n",
        "    return filtered_photo\n",
        "\n"
      ]
    },
    {
      "cell_type": "code",
      "source": [
        "import numpy as np\n",
        "import matplotlib.pyplot as plt\n",
        "from PIL import Image\n",
        "import requests\n",
        "from io import BytesIO\n",
        "\n",
        "import numpy as np\n",
        "\n",
        "print(\"Copy the URL of a .jpg file!\")\n",
        "input()\n",
        "\n",
        "import numpy as np\n",
        "\n",
        "# Function definitions for filtering\n",
        "def red_filter(photo):\n",
        "    filtered_photo = np.copy(photo)\n",
        "    filtered_photo[:,:,1:] = 0\n",
        "    return filtered_photo\n",
        "\n",
        "def green_filter(photo):\n",
        "    filtered_photo = np.copy(photo)\n",
        "    filtered_photo[:,:,[0,2]] = 0\n",
        "    return filtered_photo\n",
        "\n",
        "def blue_filter(photo):\n",
        "    filtered_photo = np.copy(photo)\n",
        "    filtered_photo[:,:,0:2] = 0\n",
        "    return filtered_photo\n",
        "\n",
        "# Prompt user for image URL\n",
        "url = input(\"Please enter the URL of a .jpg file: \")\n",
        "\n",
        "# Retrieve the image from the URL\n",
        "response = requests.get(url)\n",
        "img = Image.open(BytesIO(response.content))\n",
        "\n",
        "# Convert the image to numpy array\n",
        "photo = np.array(img)\n",
        "\n",
        "# Create subplots for original and filtered images\n",
        "fig, axes = plt.subplots(2, 3, figsize=(15, 10))\n",
        "axes = axes.flatten()\n",
        "\n",
        "# Plot original image\n",
        "axes[0].imshow(img)\n",
        "axes[0].set_title(\"Original\")\n",
        "\n",
        "# Apply red, green, and blue filters\n",
        "filtered_red = red_filter(photo)\n",
        "filtered_green = green_filter(photo)\n",
        "filtered_blue = blue_filter(photo)\n",
        "\n",
        "# Plot red, green, and blue filtered images\n",
        "axes[1].imshow(filtered_red)\n",
        "axes[1].set_title(\"Red Filtered\")\n",
        "\n",
        "axes[2].imshow(filtered_green)\n",
        "axes[2].set_title(\"Green Filtered\")\n",
        "\n",
        "axes[3].imshow(filtered_blue)\n",
        "axes[3].set_title(\"Blue Filtered\")\n",
        "\n",
        "# Create images with combinations of R, G, B values\n",
        "filtered_rg = np.copy(photo)\n",
        "filtered_rg[:, :, 2] = 0  # Remove blue channel\n",
        "axes[4].imshow(filtered_rg)\n",
        "axes[4].set_title(\"R & G, No Blue\")\n",
        "\n",
        "filtered_rb = np.copy(photo)\n",
        "filtered_rb[:, :, 1] = 0  # Remove green channel\n",
        "axes[5].imshow(filtered_rb)\n",
        "axes[5].set_title(\"R & B, No Green\")\n",
        "\n",
        "filtered_gb = np.copy(photo)\n",
        "filtered_gb[:, :, 0] = 0  # Remove red channel\n",
        "axes[6].imshow(filtered_gb)\n",
        "axes[6].set_title(\"G & B, No Red\")\n",
        "\n",
        "# Show the plots\n",
        "plt.tight_layout()\n",
        "plt.show()\n",
        "\n",
        "# Check if the original image is identical to the sum of the filtered images\n",
        "combined_image = filtered_red + filtered_green + filtered_blue\n",
        "if np.array_equal(photo, combined_image):\n",
        "    print(\"The original image is identical to the combined filtered images.\")\n",
        "else:\n",
        "    print(\"The original image is not identical to the combined filtered images.\")\n"
      ],
      "metadata": {
        "colab": {
          "base_uri": "https://localhost:8080/",
          "height": 394
        },
        "id": "NbxRwUFEqzSU",
        "outputId": "854d27ac-03dd-413b-e23a-775c4a1f1d91"
      },
      "execution_count": null,
      "outputs": [
        {
          "name": "stdout",
          "output_type": "stream",
          "text": [
            "Copy the URL of a .jpg file!\n",
            "https://images.app.goo.gl/ixvxwp6iCtc3axkB9\n",
            "Please enter the URL of a .jpg file: https://images.app.goo.gl/ixvxwp6iCtc3axkB9\n"
          ]
        },
        {
          "output_type": "error",
          "ename": "UnidentifiedImageError",
          "evalue": "cannot identify image file <_io.BytesIO object at 0x7a05017853f0>",
          "traceback": [
            "\u001b[0;31m---------------------------------------------------------------------------\u001b[0m",
            "\u001b[0;31mUnidentifiedImageError\u001b[0m                    Traceback (most recent call last)",
            "\u001b[0;32m<ipython-input-18-761f5a9c4aa3>\u001b[0m in \u001b[0;36m<cell line: 35>\u001b[0;34m()\u001b[0m\n\u001b[1;32m     33\u001b[0m \u001b[0;31m# Retrieve the image from the URL\u001b[0m\u001b[0;34m\u001b[0m\u001b[0;34m\u001b[0m\u001b[0m\n\u001b[1;32m     34\u001b[0m \u001b[0mresponse\u001b[0m \u001b[0;34m=\u001b[0m \u001b[0mrequests\u001b[0m\u001b[0;34m.\u001b[0m\u001b[0mget\u001b[0m\u001b[0;34m(\u001b[0m\u001b[0murl\u001b[0m\u001b[0;34m)\u001b[0m\u001b[0;34m\u001b[0m\u001b[0;34m\u001b[0m\u001b[0m\n\u001b[0;32m---> 35\u001b[0;31m \u001b[0mimg\u001b[0m \u001b[0;34m=\u001b[0m \u001b[0mImage\u001b[0m\u001b[0;34m.\u001b[0m\u001b[0mopen\u001b[0m\u001b[0;34m(\u001b[0m\u001b[0mBytesIO\u001b[0m\u001b[0;34m(\u001b[0m\u001b[0mresponse\u001b[0m\u001b[0;34m.\u001b[0m\u001b[0mcontent\u001b[0m\u001b[0;34m)\u001b[0m\u001b[0;34m)\u001b[0m\u001b[0;34m\u001b[0m\u001b[0;34m\u001b[0m\u001b[0m\n\u001b[0m\u001b[1;32m     36\u001b[0m \u001b[0;34m\u001b[0m\u001b[0m\n\u001b[1;32m     37\u001b[0m \u001b[0;31m# Convert the image to numpy array\u001b[0m\u001b[0;34m\u001b[0m\u001b[0;34m\u001b[0m\u001b[0m\n",
            "\u001b[0;32m/usr/local/lib/python3.10/dist-packages/PIL/Image.py\u001b[0m in \u001b[0;36mopen\u001b[0;34m(fp, mode, formats)\u001b[0m\n\u001b[1;32m   3281\u001b[0m         \u001b[0mwarnings\u001b[0m\u001b[0;34m.\u001b[0m\u001b[0mwarn\u001b[0m\u001b[0;34m(\u001b[0m\u001b[0mmessage\u001b[0m\u001b[0;34m)\u001b[0m\u001b[0;34m\u001b[0m\u001b[0;34m\u001b[0m\u001b[0m\n\u001b[1;32m   3282\u001b[0m     \u001b[0mmsg\u001b[0m \u001b[0;34m=\u001b[0m \u001b[0;34m\"cannot identify image file %r\"\u001b[0m \u001b[0;34m%\u001b[0m \u001b[0;34m(\u001b[0m\u001b[0mfilename\u001b[0m \u001b[0;32mif\u001b[0m \u001b[0mfilename\u001b[0m \u001b[0;32melse\u001b[0m \u001b[0mfp\u001b[0m\u001b[0;34m)\u001b[0m\u001b[0;34m\u001b[0m\u001b[0;34m\u001b[0m\u001b[0m\n\u001b[0;32m-> 3283\u001b[0;31m     \u001b[0;32mraise\u001b[0m \u001b[0mUnidentifiedImageError\u001b[0m\u001b[0;34m(\u001b[0m\u001b[0mmsg\u001b[0m\u001b[0;34m)\u001b[0m\u001b[0;34m\u001b[0m\u001b[0;34m\u001b[0m\u001b[0m\n\u001b[0m\u001b[1;32m   3284\u001b[0m \u001b[0;34m\u001b[0m\u001b[0m\n\u001b[1;32m   3285\u001b[0m \u001b[0;34m\u001b[0m\u001b[0m\n",
            "\u001b[0;31mUnidentifiedImageError\u001b[0m: cannot identify image file <_io.BytesIO object at 0x7a05017853f0>"
          ]
        }
      ]
    },
    {
      "cell_type": "code",
      "source": [
        "from PIL import Image\n",
        "import requests\n",
        "from io import BytesIO\n",
        "import random\n",
        "import PIL\n",
        "from PIL import Image\n",
        "import os\n",
        "import numpy as np\n",
        "\n",
        "print(\"Copy the URL of a .jpg file!\")\n",
        "url = input()\n",
        "responce = requests.get(url)\n",
        "img = PIL.Image.load(BytesIO(response.content))\n",
        "img.show()"
      ],
      "metadata": {
        "colab": {
          "base_uri": "https://localhost:8080/",
          "height": 358
        },
        "id": "YYu6OQ21trXT",
        "outputId": "64110ddc-eb3c-40e8-dcd3-0c1cc16f8875"
      },
      "execution_count": null,
      "outputs": [
        {
          "name": "stdout",
          "output_type": "stream",
          "text": [
            "Copy the URL of a .jpg file!\n",
            "https://images.app.goo.gl/G8VzHc8nHz2wTRp99\n"
          ]
        },
        {
          "output_type": "error",
          "ename": "AttributeError",
          "evalue": "module 'PIL.Image' has no attribute 'load'",
          "traceback": [
            "\u001b[0;31m---------------------------------------------------------------------------\u001b[0m",
            "\u001b[0;31mAttributeError\u001b[0m                            Traceback (most recent call last)",
            "\u001b[0;32m<ipython-input-25-67095f385a3b>\u001b[0m in \u001b[0;36m<cell line: 13>\u001b[0;34m()\u001b[0m\n\u001b[1;32m     11\u001b[0m \u001b[0murl\u001b[0m \u001b[0;34m=\u001b[0m \u001b[0minput\u001b[0m\u001b[0;34m(\u001b[0m\u001b[0;34m)\u001b[0m\u001b[0;34m\u001b[0m\u001b[0;34m\u001b[0m\u001b[0m\n\u001b[1;32m     12\u001b[0m \u001b[0mresponce\u001b[0m \u001b[0;34m=\u001b[0m \u001b[0mrequests\u001b[0m\u001b[0;34m.\u001b[0m\u001b[0mget\u001b[0m\u001b[0;34m(\u001b[0m\u001b[0murl\u001b[0m\u001b[0;34m)\u001b[0m\u001b[0;34m\u001b[0m\u001b[0;34m\u001b[0m\u001b[0m\n\u001b[0;32m---> 13\u001b[0;31m \u001b[0mimg\u001b[0m \u001b[0;34m=\u001b[0m \u001b[0mPIL\u001b[0m\u001b[0;34m.\u001b[0m\u001b[0mImage\u001b[0m\u001b[0;34m.\u001b[0m\u001b[0mload\u001b[0m\u001b[0;34m(\u001b[0m\u001b[0mBytesIO\u001b[0m\u001b[0;34m(\u001b[0m\u001b[0mresponse\u001b[0m\u001b[0;34m.\u001b[0m\u001b[0mcontent\u001b[0m\u001b[0;34m)\u001b[0m\u001b[0;34m)\u001b[0m\u001b[0;34m\u001b[0m\u001b[0;34m\u001b[0m\u001b[0m\n\u001b[0m\u001b[1;32m     14\u001b[0m \u001b[0mimg\u001b[0m\u001b[0;34m.\u001b[0m\u001b[0mshow\u001b[0m\u001b[0;34m(\u001b[0m\u001b[0;34m)\u001b[0m\u001b[0;34m\u001b[0m\u001b[0;34m\u001b[0m\u001b[0m\n",
            "\u001b[0;32m/usr/local/lib/python3.10/dist-packages/PIL/Image.py\u001b[0m in \u001b[0;36m__getattr__\u001b[0;34m(name)\u001b[0m\n\u001b[1;32m     77\u001b[0m         \u001b[0;32mreturn\u001b[0m \u001b[0mResampling\u001b[0m\u001b[0;34m[\u001b[0m\u001b[0mold_resampling\u001b[0m\u001b[0;34m[\u001b[0m\u001b[0mname\u001b[0m\u001b[0;34m]\u001b[0m\u001b[0;34m]\u001b[0m\u001b[0;34m\u001b[0m\u001b[0;34m\u001b[0m\u001b[0m\n\u001b[1;32m     78\u001b[0m     \u001b[0mmsg\u001b[0m \u001b[0;34m=\u001b[0m \u001b[0;34mf\"module '{__name__}' has no attribute '{name}'\"\u001b[0m\u001b[0;34m\u001b[0m\u001b[0;34m\u001b[0m\u001b[0m\n\u001b[0;32m---> 79\u001b[0;31m     \u001b[0;32mraise\u001b[0m \u001b[0mAttributeError\u001b[0m\u001b[0;34m(\u001b[0m\u001b[0mmsg\u001b[0m\u001b[0;34m)\u001b[0m\u001b[0;34m\u001b[0m\u001b[0;34m\u001b[0m\u001b[0m\n\u001b[0m\u001b[1;32m     80\u001b[0m \u001b[0;34m\u001b[0m\u001b[0m\n\u001b[1;32m     81\u001b[0m \u001b[0;34m\u001b[0m\u001b[0m\n",
            "\u001b[0;31mAttributeError\u001b[0m: module 'PIL.Image' has no attribute 'load'"
          ]
        }
      ]
    },
    {
      "cell_type": "code",
      "source": [
        "import numpy as np\n",
        "from PIL import Image\n",
        "import requests\n",
        "import matplotlib.pyplot as plt\n",
        "from skimage import io\n",
        "\n",
        "url = 'https://images.app.goo.gl/xerKEDYCEsMqsAfc7'\n",
        "image = np.asarray(Image.open(requests.get(url, stream=True).raw))\n",
        "\n",
        "image"
      ],
      "metadata": {
        "id": "AOnswjGDOfYK"
      },
      "execution_count": null,
      "outputs": []
    },
    {
      "cell_type": "code",
      "source": [
        "plt.imshow(image[:,:,0])\n"
      ],
      "metadata": {
        "id": "4XP0OiRUQRg5"
      },
      "execution_count": null,
      "outputs": []
    },
    {
      "cell_type": "code",
      "source": [
        "def red_filter(photo):\n",
        "  filtered_photo = np.copy(photo)\n",
        "  filtered_photo[:,:,1:] = 0\n",
        "  return filtered_photo\n",
        "\n",
        "def green_filter(photo):\n",
        "  filtered_photo = np.copy(photo)\n",
        "  filtered_photo[:,:,[0,2]] = 0\n",
        "  return filtered_photo\n",
        "\n",
        "def blue_filter(photo):\n",
        "  filtered_photo = np.copy(photo)\n",
        "  filtered_photo[:,:,0,2] = 0\n",
        "  return filtered_photo\n",
        "\n"
      ],
      "metadata": {
        "id": "PQ-DHC9PQVl6"
      },
      "execution_count": null,
      "outputs": []
    },
    {
      "cell_type": "code",
      "source": [
        "newPhoto = green_filter(image)\n",
        "newPhoto\n"
      ],
      "metadata": {
        "id": "VMzVjLZURQF8"
      },
      "execution_count": null,
      "outputs": []
    },
    {
      "cell_type": "code",
      "source": [
        "url = input(\"Please enter the URL of a .jpg file:\")\n",
        "\n",
        "photo = np.asarray(Image.open(requests.get(url, stream=True).raw))\n",
        "\n",
        "fig, axes = plt.subplots(2, 4, figsize=(15, 10))\n",
        "axes = axes.flatten()\n",
        "\n",
        "axes[0].imgshow(photo)\n",
        "axes[0].settitle(\"Original\")\n",
        "\n",
        "filtered_red = red_filter(photo)\n",
        "filtered_green = green_filter(photo)\n",
        "filtered_blue = blue_filter(photo)\n",
        "\n",
        "axes[1].imgshow(filtered_red)\n",
        "axes[1].set_title(\"red filter\")\n",
        "\n",
        "axes[2].imgeshow(filtered_green)\n",
        "\n",
        "\n"
      ],
      "metadata": {
        "id": "HRYV9bj1Rowy"
      },
      "execution_count": null,
      "outputs": []
    }
  ]
}