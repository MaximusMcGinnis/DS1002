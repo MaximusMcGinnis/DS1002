{
  "nbformat": 4,
  "nbformat_minor": 0,
  "metadata": {
    "colab": {
      "provenance": [],
      "authorship_tag": "ABX9TyMpEpxgOVatuEr5WO6zk440",
      "include_colab_link": true
    },
    "kernelspec": {
      "name": "python3",
      "display_name": "Python 3"
    },
    "language_info": {
      "name": "python"
    }
  },
  "cells": [
    {
      "cell_type": "markdown",
      "metadata": {
        "id": "view-in-github",
        "colab_type": "text"
      },
      "source": [
        "<a href=\"https://colab.research.google.com/github/MaximusMcGinnis/DS1002/blob/main/HW_07.ipynb\" target=\"_parent\"><img src=\"https://colab.research.google.com/assets/colab-badge.svg\" alt=\"Open In Colab\"/></a>"
      ]
    },
    {
      "cell_type": "markdown",
      "source": [
        "1."
      ],
      "metadata": {
        "id": "13LZeJ72zE6L"
      }
    },
    {
      "cell_type": "code",
      "execution_count": null,
      "metadata": {
        "colab": {
          "base_uri": "https://localhost:8080/"
        },
        "id": "jAe1k8RMCDXk",
        "outputId": "76619a30-902c-43c5-c3a3-52ab32c72c93"
      },
      "outputs": [
        {
          "output_type": "stream",
          "name": "stdout",
          "text": [
            "Number of rows: 25760\n",
            "Number of columns: 10\n"
          ]
        }
      ],
      "source": [
        "import pandas as pd\n",
        "url = \"https://ds1002-resources.s3.amazonaws.com/data/ride_sharing.csv\"\n",
        "ride_sharing_data = pd.read_csv(url)\n",
        "\n",
        "# Show how many rows and columns are in this dataset\n",
        "num_rows, num_columns = ride_sharing_data.shape\n",
        "print(\"Number of rows:\", num_rows)\n",
        "print(\"Number of columns:\", num_columns)"
      ]
    },
    {
      "cell_type": "code",
      "source": [
        "import pandas as pd\n",
        "url = \"https://ds1002-resources.s3.amazonaws.com/data/ride_sharing.csv\"\n",
        "ride_sharing_data = pd.read_csv(url)\n",
        "df = pd.read_csv(url)\n",
        "\n",
        "#The first column, \"duration\" is seen as a string.\n",
        "# Using two snippets of code, clean this column up so that\n",
        "# is now an integer (int64)\n",
        "df['duration'] = df['duration'].str.replace('minutes', '').astype(int)\n",
        "print(\"\\nAfter cleaning:\")\n",
        "print(df.head())\n",
        "print(\"\\nData types after cleaning:\")\n",
        "print(df.dtypes)"
      ],
      "metadata": {
        "colab": {
          "base_uri": "https://localhost:8080/"
        },
        "id": "GlP-n5ds0kCu",
        "outputId": "13724816-0f0b-4e22-add0-86540ab01c0a"
      },
      "execution_count": null,
      "outputs": [
        {
          "output_type": "stream",
          "name": "stdout",
          "text": [
            "\n",
            "After cleaning:\n",
            "   duration  station_A_id                                     station_A_name  \\\n",
            "0        12            81                                 Berry St at 4th St   \n",
            "1        24             3       Powell St BART Station (Market St at 4th St)   \n",
            "2         8            67  San Francisco Caltrain Station 2  (Townsend St...   \n",
            "3         4            16                            Steuart St at Market St   \n",
            "4        11            22                              Howard St at Beale St   \n",
            "\n",
            "   station_B_id                   station_B_name  bike_id  user_type  \\\n",
            "0           323               Broadway at Kearny     5480          2   \n",
            "1           118  Eureka Valley Recreation Center     5193          2   \n",
            "2            23    The Embarcadero at Steuart St     3652          3   \n",
            "3            28     The Embarcadero at Bryant St     1883          1   \n",
            "4           350             8th St at Brannan St     4626          2   \n",
            "\n",
            "   user_birth_year user_gender  tire_size  \n",
            "0             1959        Male         26  \n",
            "1             1965        Male         27  \n",
            "2             1993        Male         29  \n",
            "3             1979        Male         26  \n",
            "4             1994        Male         27  \n",
            "\n",
            "Data types after cleaning:\n",
            "duration            int64\n",
            "station_A_id        int64\n",
            "station_A_name     object\n",
            "station_B_id        int64\n",
            "station_B_name     object\n",
            "bike_id             int64\n",
            "user_type           int64\n",
            "user_birth_year     int64\n",
            "user_gender        object\n",
            "tire_size           int64\n",
            "dtype: object\n"
          ]
        }
      ]
    },
    {
      "cell_type": "code",
      "source": [
        "import pandas as pd\n",
        "url = \"https://ds1002-resources.s3.amazonaws.com/data/ride_sharing.csv\"\n",
        "df = pd.read_csv(url)\n",
        "\n",
        "# Minimum and Maximum ride durations computed below\n",
        "\n",
        "min_duration = df['duration'].min()\n",
        "max_duration = df['duration'].max()\n",
        "\n",
        "print(\"Minimum ride duration:\", min_duration)\n",
        "print(\"Maximum ride duration:\", max_duration)"
      ],
      "metadata": {
        "colab": {
          "base_uri": "https://localhost:8080/"
        },
        "id": "Wj52AcEh1SD-",
        "outputId": "7002da9a-5001-407a-a236-2dbff833c24e"
      },
      "execution_count": null,
      "outputs": [
        {
          "output_type": "stream",
          "name": "stdout",
          "text": [
            "Minimum ride duration: 1 minutes\n",
            "Maximum ride duration: 99 minutes\n"
          ]
        }
      ]
    },
    {
      "cell_type": "code",
      "source": [
        "# Create a new DataFrame with rides that are 60 minutes or less using .query()\n",
        "df_short_rides = df.query('duration<= 60')\n",
        "\n",
        "print(rides_60_or_less.head())"
      ],
      "metadata": {
        "id": "T73etOQgTfle"
      },
      "execution_count": null,
      "outputs": []
    },
    {
      "cell_type": "code",
      "source": [
        "import pandas as pd\n",
        "url = \"https://ds1002-resources.s3.amazonaws.com/data/ride_sharing.csv\"\n",
        "df = pd.read_csv(url)\n",
        "\n",
        "# Minimum and Maximum ride durations computed below\n",
        "\n",
        "min_duration = df['duration'].min()\n",
        "max_duration = df['duration'].max()\n",
        "\n",
        "print(\"Minimum ride duration:\", min_duration)\n",
        "print(\"Maximum ride duration:\", max_duration)"
      ],
      "metadata": {
        "colab": {
          "base_uri": "https://localhost:8080/"
        },
        "id": "SiyKvPUURHh0",
        "outputId": "c58592e3-1375-45a7-d253-1bf5d30e78b7"
      },
      "execution_count": null,
      "outputs": [
        {
          "output_type": "stream",
          "name": "stdout",
          "text": [
            "Minimum ride duration: 1 minutes\n",
            "Maximum ride duration: 99 minutes\n"
          ]
        }
      ]
    },
    {
      "cell_type": "code",
      "source": [
        "import pandas as pd\n",
        "\n",
        "url = \"https://ds1002-resources.s3.amazonaws.com/data/ride_sharing.csv\"\n",
        "ride_sharing = pd.read_csv(url)\n",
        "\n",
        "# Using the new dataframe, update it so that is ONLY has records where the tire_size is 26.\n",
        "ride_sharing_filtered = ride_sharing[ride_sharing['tire_size'] == 26]\n",
        "print(\"\\nFiltered dataset (tire_size == 26):\")\n",
        "print(ride_sharing_filtered.head())\n",
        "\n",
        "ride_sharing_filtered.to_csv(\"ride_sharing_filtered.csv\", index=False)\n"
      ],
      "metadata": {
        "colab": {
          "base_uri": "https://localhost:8080/"
        },
        "id": "BYbi7iFeR2UL",
        "outputId": "04d36922-88c1-42e6-a368-abf6458f9740"
      },
      "execution_count": null,
      "outputs": [
        {
          "output_type": "stream",
          "name": "stdout",
          "text": [
            "\n",
            "Filtered dataset (tire_size == 26):\n",
            "      duration  station_A_id  \\\n",
            "0   12 minutes            81   \n",
            "3    4 minutes            16   \n",
            "6   16 minutes            67   \n",
            "9    5 minutes            30   \n",
            "12   7 minutes             3   \n",
            "\n",
            "                                       station_A_name  station_B_id  \\\n",
            "0                                  Berry St at 4th St           323   \n",
            "3                             Steuart St at Market St            28   \n",
            "6   San Francisco Caltrain Station 2  (Townsend St...           107   \n",
            "9      San Francisco Caltrain (Townsend St at 4th St)            62   \n",
            "12       Powell St BART Station (Market St at 4th St)            27   \n",
            "\n",
            "                  station_B_name  bike_id  user_type  user_birth_year  \\\n",
            "0             Broadway at Kearny     5480          2             1959   \n",
            "3   The Embarcadero at Bryant St     1883          1             1979   \n",
            "6          17th St at Dolores St     1035          2             1981   \n",
            "9    Victoria Manalo Draves Park      333          1             1994   \n",
            "12       Beale St at Harrison St     1863          3             1998   \n",
            "\n",
            "   user_gender  tire_size  \n",
            "0         Male         26  \n",
            "3         Male         26  \n",
            "6         Male         26  \n",
            "9         Male         26  \n",
            "12        Male         26  \n"
          ]
        }
      ]
    },
    {
      "cell_type": "code",
      "source": [
        "import pandas as pd\n",
        "url = \"https://ds1002-resources.s3.amazonaws.com/data/ride_sharing.csv\"\n",
        "ride_sharing_data = pd.read_csv(url)\n",
        "\n",
        "#Produce a count of all records with FEMALE riders using the 26-inch wheeled rental bikes for their rentals of one hour or less\n",
        "filtered_data = ride_sharing_data[(ride_sharing_data['rideable_type_'] == 'electric_bike') &\n",
        "                                     (ride_sharing_data['duration'] <= 60) &\n",
        "                                     (ride_sharing_data['duration'] >= 0) &\n",
        "                                     (ride_sharing_data['member_gender'] == 'Female') &\n",
        "                                     (ride_sharing_data['rideable_name'].str.contains('26\"'))]\n",
        "count_female_riders = len(filtered_data)\n",
        "\n",
        "print(\"Count of all records with FEMALE riders using the 26-inch wheeled rental bikes for their rentals of one hour or less:\", count_female_riders)\n"
      ],
      "metadata": {
        "id": "HIPZ8_rwTu9y"
      },
      "execution_count": null,
      "outputs": []
    },
    {
      "cell_type": "markdown",
      "source": [
        "2."
      ],
      "metadata": {
        "id": "3qd01Gv82uDK"
      }
    },
    {
      "cell_type": "code",
      "source": [
        "# Create a new Pandas DataFrame from that data and perform the following steps.\n",
        "url2 = \"https://raw.githubusercontent.com/aaron-abrams-uva/ds1002-s24/main/data/more-messy-data.csv\"\n",
        "ndpf = pd.read_csv(url2)"
      ],
      "metadata": {
        "id": "Si0D-P0z2vl6"
      },
      "execution_count": null,
      "outputs": []
    },
    {
      "cell_type": "code",
      "source": [
        "# Write a snippet of code that will display the number of duplicate rows exist in the DF.\n",
        "\n",
        "npdf.duplicated().sum()"
      ],
      "metadata": {
        "colab": {
          "base_uri": "https://localhost:8080/"
        },
        "id": "Mo5andnh4Jh3",
        "outputId": "03632988-e0ce-465a-c72e-f5677b046a86"
      },
      "execution_count": null,
      "outputs": [
        {
          "output_type": "execute_result",
          "data": {
            "text/plain": [
              "287"
            ]
          },
          "metadata": {},
          "execution_count": 8
        }
      ]
    },
    {
      "cell_type": "code",
      "source": [
        "# Remove all duplicate rows\n",
        "npdf=npdf.drop_duplicates()"
      ],
      "metadata": {
        "id": "C4I_MUmS4guP"
      },
      "execution_count": null,
      "outputs": []
    },
    {
      "cell_type": "code",
      "source": [
        "# For the four columns involving sepal and petal length and width, update all NaN values with the column mean.\n",
        "\n",
        "npdf[['sepal_length', 'sepal_width', 'petal_length', 'petal_width']] = npdf[['sepal_length', 'sepal_width', 'petal_length', 'petal_width']].fillna(npdf.mean())"
      ],
      "metadata": {
        "colab": {
          "base_uri": "https://localhost:8080/"
        },
        "id": "BjWyECdd5a5a",
        "outputId": "c854c155-d9bf-4700-fe58-2b34f0020c03"
      },
      "execution_count": null,
      "outputs": [
        {
          "output_type": "stream",
          "name": "stderr",
          "text": [
            "<ipython-input-10-2c991a193567>:3: FutureWarning: The default value of numeric_only in DataFrame.mean is deprecated. In a future version, it will default to False. In addition, specifying 'numeric_only=None' is deprecated. Select only valid columns or specify the value of numeric_only to silence this warning.\n",
            "  npdf[['sepal_length', 'sepal_width', 'petal_length', 'petal_width']] = npdf[['sepal_length', 'sepal_width', 'petal_length', 'petal_width']].fillna(npdf.mean())\n"
          ]
        }
      ]
    },
    {
      "cell_type": "code",
      "source": [
        "# Delete any missing values\n",
        "npdf = npdf.dropna()"
      ],
      "metadata": {
        "id": "9WQebYiA6d8m"
      },
      "execution_count": null,
      "outputs": []
    },
    {
      "cell_type": "code",
      "source": [
        "# Number of speices\n",
        "\n",
        "print(npdf['species'].unique())\n",
        "print(\"There are nine names under species, but there are three truly unique species.\")"
      ],
      "metadata": {
        "colab": {
          "base_uri": "https://localhost:8080/"
        },
        "id": "534yR-JT6wLp",
        "outputId": "8c4179d0-4944-4a53-ced6-5cfb6985f9d3"
      },
      "execution_count": null,
      "outputs": [
        {
          "output_type": "stream",
          "name": "stdout",
          "text": [
            "['virginica' 'setosa' 'Versicolor' 'setoso' 'Viginica' 'Virginia' 'Setosa'\n",
            " 'Setosan' 'versicolor']\n",
            "There are nine names under species, but there are three truly unique species.\n"
          ]
        }
      ]
    },
    {
      "cell_type": "code",
      "source": [
        "# Clean up the species variable so there are three values\n",
        "mapping = {'virginica': \"Virginica\", 'Viginica' : 'Virginica', 'Virginia' : 'Virginica', 'setosa': 'Setosa', 'setoso': 'Setosan', 'versicolor': 'Versicolor'}\n",
        "npdf['species'] = npdf['species'].replace(mapping)\n",
        "npdf['species'].dropna().unique()"
      ],
      "metadata": {
        "colab": {
          "base_uri": "https://localhost:8080/"
        },
        "id": "Q-20HaCW-T3B",
        "outputId": "609c5418-f7f6-4725-e7e1-4d95075e3d52"
      },
      "execution_count": null,
      "outputs": [
        {
          "output_type": "execute_result",
          "data": {
            "text/plain": [
              "array(['Virginica', 'Setosa', 'Versicolor', 'Setosan'], dtype=object)"
            ]
          },
          "metadata": {},
          "execution_count": 20
        }
      ]
    }
  ]
}