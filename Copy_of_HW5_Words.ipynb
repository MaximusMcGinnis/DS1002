{
  "nbformat": 4,
  "nbformat_minor": 0,
  "metadata": {
    "colab": {
      "provenance": [],
      "authorship_tag": "ABX9TyO7j2phvQUbodTOLH4HeNAR",
      "include_colab_link": true
    },
    "kernelspec": {
      "name": "python3",
      "display_name": "Python 3"
    },
    "language_info": {
      "name": "python"
    }
  },
  "cells": [
    {
      "cell_type": "markdown",
      "metadata": {
        "id": "view-in-github",
        "colab_type": "text"
      },
      "source": [
        "<a href=\"https://colab.research.google.com/github/MaximusMcGinnis/DS1002/blob/main/Copy_of_HW5_Words.ipynb\" target=\"_parent\"><img src=\"https://colab.research.google.com/assets/colab-badge.svg\" alt=\"Open In Colab\"/></a>"
      ]
    },
    {
      "cell_type": "code",
      "execution_count": null,
      "metadata": {
        "colab": {
          "base_uri": "https://localhost:8080/"
        },
        "id": "o0rWDbH505CK",
        "outputId": "605e6f63-7ec4-4bbe-a0b4-eabf2a2e1da7"
      },
      "outputs": [
        {
          "output_type": "stream",
          "name": "stdout",
          "text": [
            "Requirement already satisfied: english_words in /usr/local/lib/python3.10/dist-packages (2.0.1)\n",
            "['choleine', 'mystify', 'wardapet', 'abintestate', 'virtuelessness', 'chicle', 'picary', 'arimathaean', 'therevidae', 'philomel']\n"
          ]
        }
      ],
      "source": [
        "!pip install english_words\n",
        "from english_words import get_english_words_set\n",
        "words = get_english_words_set(['web2'], lower=True)\n",
        "\n",
        "# 1. The variable \"words\" is a set.\n",
        "\n",
        "wordlist = list(words)\n",
        "\n",
        "# 2. Below is the first 10 words in the lsit.\n",
        "print(list(words)[:10])\n",
        "\n",
        "\n"
      ]
    },
    {
      "cell_type": "code",
      "source": [
        "!pip install english_words\n",
        "from english_words import get_english_words_set\n",
        "words = get_english_words_set(['web2'], lower=True)\n",
        "\n",
        "wordlist = list(words)\n",
        "\n",
        "# 3. Below sorts the word list and prints the first 10 words aplabetically.\n",
        "\n",
        "alpha_list = sorted(words)\n",
        "print(alpha_list[:10])"
      ],
      "metadata": {
        "colab": {
          "base_uri": "https://localhost:8080/"
        },
        "id": "hqKWSAbS4tuR",
        "outputId": "d3a1e87c-e980-4d48-cd83-59c64bb49614"
      },
      "execution_count": null,
      "outputs": [
        {
          "output_type": "stream",
          "name": "stdout",
          "text": [
            "Requirement already satisfied: english_words in /usr/local/lib/python3.10/dist-packages (2.0.1)\n",
            "['a', 'aa', 'aal', 'aalii', 'aam', 'aani', 'aardvark', 'aardwolf', 'aaron', 'aaronic']\n"
          ]
        }
      ]
    },
    {
      "cell_type": "code",
      "source": [
        "!pip install english_words\n",
        "from english_words import get_english_words_set\n",
        "words = get_english_words_set(['web2'], lower=True)\n",
        "\n",
        "wordlist = list(words)\n",
        "\n",
        "# 4. Words that start with the letter A.\n",
        "\n",
        "count_a = sum(1 for word in wordlist if word.startswith('a'))\n",
        "print(\"Number of words starting with 'a':\", count_a)\n"
      ],
      "metadata": {
        "colab": {
          "base_uri": "https://localhost:8080/"
        },
        "id": "O6SlYBFR5Qq0",
        "outputId": "4f2069c3-7ed9-475c-ce55-14c4b0dc4734"
      },
      "execution_count": null,
      "outputs": [
        {
          "output_type": "stream",
          "name": "stdout",
          "text": [
            "Requirement already satisfied: english_words in /usr/local/lib/python3.10/dist-packages (2.0.1)\n",
            "Number of words starting with 'a': 16982\n"
          ]
        }
      ]
    },
    {
      "cell_type": "code",
      "source": [
        "!pip install english_words\n",
        "from english_words import get_english_words_set\n",
        "words = get_english_words_set(['web2'], lower=True)\n",
        "\n",
        "# 5. Bellow is the number of words without th eletter e and the amount of words containing the letter q.\n",
        "\n",
        "q_count = sum(1 for word in wordlist if 'q' in word)\n",
        "\n",
        "no_e_count = sum(1 for word in wordlist if 'e' not in word)\n",
        "\n",
        "fraction_no_e = no_e_count / len(wordlist)\n",
        "\n",
        "print(\"Number of words containing 'q':\", q_count)\n",
        "print(\"Fraction of words not containing 'e':\", fraction_no_e)\n"
      ],
      "metadata": {
        "colab": {
          "base_uri": "https://localhost:8080/"
        },
        "id": "dx0Z3cjVHOZa",
        "outputId": "c04cdc1e-9ee2-4a98-9eb1-32877820982b"
      },
      "execution_count": null,
      "outputs": [
        {
          "output_type": "stream",
          "name": "stdout",
          "text": [
            "Requirement already satisfied: english_words in /usr/local/lib/python3.10/dist-packages (2.0.1)\n",
            "Number of words containing 'q': 3624\n",
            "Fraction of words not containing 'e': 0.32828321603753463\n"
          ]
        }
      ]
    },
    {
      "cell_type": "code",
      "source": [
        "!pip install english_words\n",
        "from english_words import get_english_words_set\n",
        "words = get_english_words_set(['web2'], lower=True)\n",
        "\n",
        "wordlist = list(words)\n",
        "\n",
        "# 6.(i) Bellow allows for arrays to be created using numpy.\n",
        "import numpy as np\n",
        "\n",
        "word_array = np.array(wordlist)\n",
        "\n",
        "#6.(ii) When running this code, it appears as if there is nothing that happens to the code.\n",
        "alphabet = [chr(i) for i in range(ord('a'), ord('z') + 1)]\n"
      ],
      "metadata": {
        "colab": {
          "base_uri": "https://localhost:8080/"
        },
        "id": "8AyQDFEYIyf6",
        "outputId": "f98db78e-4de8-47c7-fa3a-92f38ab2ca5f"
      },
      "execution_count": null,
      "outputs": [
        {
          "output_type": "stream",
          "name": "stdout",
          "text": [
            "Requirement already satisfied: english_words in /usr/local/lib/python3.10/dist-packages (2.0.1)\n"
          ]
        }
      ]
    },
    {
      "cell_type": "code",
      "source": [
        "!pip install english_words\n",
        "import numpy as np\n",
        "from english_words import get_english_words_set\n",
        "import matplotlib.pyplot as plt\n",
        "words = get_english_words_set(['web2'], lower=True)\n",
        "\n",
        "wordlist = list(words)\n",
        "\n",
        "# Below creates worldlist through numpy arrays\n",
        "word_array = np.array(wordlist)\n",
        "word_list = word_array.tolist()\n",
        "\n",
        "# Below is from prior question.\n",
        "alphabet = [chr(i) for i in range(ord('a'), ord('z') + 1)]\n",
        "\n",
        "# 7. Below is used to count the number of words that start with each letter in the alphabet\n",
        "word_count_per_letter = []\n",
        "for letter in alphabet:\n",
        "    count = 0\n",
        "    for word in wordlist:\n",
        "        if word.startswith(letter):\n",
        "            count += 1\n",
        "    word_count_per_letter.append(count)\n",
        "\n",
        "# 7.Below is the code used to plot the bar graph\n",
        "plt.figure(figsize=(10, 6))\n",
        "plt.bar(alphabet, word_count_per_letter, color='skyblue')\n",
        "plt.xlabel('Alphabet')\n",
        "plt.ylabel('Number of Words')\n",
        "plt.title('Number of Words Starting with Each Letter')\n",
        "plt.xticks(rotation=45)\n",
        "plt.grid(axis='y', linestyle='--', alpha=0.7)\n",
        "plt.show()\n"
      ],
      "metadata": {
        "colab": {
          "base_uri": "https://localhost:8080/",
          "height": 588
        },
        "id": "w8eNeSbWLOtN",
        "outputId": "693b88e5-8ac8-427b-c444-24eeba0d50c2"
      },
      "execution_count": null,
      "outputs": [
        {
          "output_type": "stream",
          "name": "stdout",
          "text": [
            "Requirement already satisfied: english_words in /usr/local/lib/python3.10/dist-packages (2.0.1)\n"
          ]
        },
        {
          "output_type": "display_data",
          "data": {
            "text/plain": [
              "<Figure size 1000x600 with 1 Axes>"
            ],
            "image/png": "[encoded data removed]"
          },
          "metadata": {}
        }
      ]
    },
    {
      "cell_type": "code",
      "source": [
        "!pip install english_words\n",
        "import numpy as np\n",
        "from english_words import get_english_words_set\n",
        "import matplotlib.pyplot as plt\n",
        "words = get_english_words_set(['web2'], lower=True)\n",
        "\n",
        "# 8. To print the six longest words, I sorted the wordlist in decreasing order by length then printed the top 6 words in the list.\n",
        "sorted_wordlist = sorted(wordlist, key=len, reverse=True)\n",
        "six_longest_words = sorted_wordlist[:6]\n",
        "\n",
        "print(\"Six longest words:\")\n",
        "for word in six_longest_words:\n",
        "    print(word)\n"
      ],
      "metadata": {
        "colab": {
          "base_uri": "https://localhost:8080/"
        },
        "id": "CYmdZLjnO6pV",
        "outputId": "e1a0951c-a138-48aa-d056-15a5d94853be"
      },
      "execution_count": null,
      "outputs": [
        {
          "output_type": "stream",
          "name": "stdout",
          "text": [
            "Requirement already satisfied: english_words in /usr/local/lib/python3.10/dist-packages (2.0.1)\n",
            "Six longest words:\n",
            "antidisestablishmentarianism\n",
            "pathologicopsychological\n",
            "thyroparathyroidectomize\n",
            "formaldehydesulphoxylate\n",
            "scientificophilosophical\n",
            "tetraiodophenolphthalein\n"
          ]
        }
      ]
    },
    {
      "cell_type": "code",
      "source": [
        "import matplotlib.pyplot as plt\n",
        "!pip install english_words\n",
        "import numpy as np\n",
        "from english_words import get_english_words_set\n",
        "import matplotlib.pyplot as plt\n",
        "words = get_english_words_set(['web2'], lower=True)\n",
        "word_length_counts = {}\n",
        "\n",
        "#9. **This is to make sure the words are to be counted only once**\n",
        "for word in wordlist:\n",
        "    length = len(word)\n",
        "    if length in word_length_counts:\n",
        "        word_length_counts[length] += 1\n",
        "    else:\n",
        "        word_length_counts[length] = 1\n",
        "\n",
        "lengths = list(word_length_counts.keys())\n",
        "counts = list(word_length_counts.values())\n",
        "\n",
        "#9.(i) Code below creates the histogram\n",
        "plt.bar(lengths, counts, color='blue')\n",
        "plt.title('Histogram of Word Lengths')\n",
        "plt.xlabel('Word Length')\n",
        "plt.ylabel('Number of Words')\n",
        "plt.grid(True)\n",
        "plt.show()\n",
        "\n",
        "#9.(ii) The most common length of a word in wordlist\n",
        "most_common_length = max(word_length_counts, key=word_length_counts.get)\n",
        "print(\"The most common length of a word in the wordlist is:\", most_common_length)\n"
      ],
      "metadata": {
        "colab": {
          "base_uri": "https://localhost:8080/",
          "height": 508
        },
        "id": "7VFdllsuQWhR",
        "outputId": "3ab23c22-6f20-4aef-ecd4-931872eace8e"
      },
      "execution_count": null,
      "outputs": [
        {
          "output_type": "stream",
          "name": "stdout",
          "text": [
            "Requirement already satisfied: english_words in /usr/local/lib/python3.10/dist-packages (2.0.1)\n"
          ]
        },
        {
          "output_type": "display_data",
          "data": {
            "text/plain": [
              "<Figure size 640x480 with 1 Axes>"
            ],
            "image/png": "[encoded data removed]"
          },
          "metadata": {}
        },
        {
          "output_type": "stream",
          "name": "stdout",
          "text": [
            "The most common length of a word in the wordlist is: 9\n"
          ]
        }
      ]
    },
    {
      "cell_type": "code",
      "source": [
        "import matplotlib.pyplot as plt\n",
        "!pip install english_words\n",
        "import numpy as np\n",
        "from english_words import get_english_words_set\n",
        "import matplotlib.pyplot as plt\n",
        "words = get_english_words_set(['web2'], lower=True)\n",
        "\n",
        "#11.(i)\n",
        "va_count = 0\n",
        "wl_count = 0\n",
        "\n",
        "#11.(ii)It will run through the word list a total of two times and it took 1.2 seconds to compute.\n",
        "for word in wordlist:\n",
        "    if 'v' in word and 'a' in word:\n",
        "        va_count += 1\n",
        "    if 'w' in word and 'l' in word:\n",
        "        wl_count += 1\n",
        "\n",
        "print(\"Number of words containing both 'v' and 'a':\", va_count)\n",
        "print(\"Number of words containing both 'w' and 'l':\", wl_count)\n"
      ],
      "metadata": {
        "colab": {
          "base_uri": "https://localhost:8080/"
        },
        "id": "CYIk3trfNU0v",
        "outputId": "c6d4b018-805a-4149-c442-92e07fed20bf"
      },
      "execution_count": null,
      "outputs": [
        {
          "output_type": "stream",
          "name": "stdout",
          "text": [
            "Number of words containing both 'v' and 'a': 11347\n",
            "Number of words containing both 'w' and 'l': 4822\n"
          ]
        }
      ]
    }
  ]
}